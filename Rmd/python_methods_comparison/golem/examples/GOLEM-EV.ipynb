{
 "cells": [
  {
   "cell_type": "markdown",
   "metadata": {},
   "source": [
    "# Demo of GOLEM-EV\n",
    "\n",
    "Dataset configurations:\n",
    "- Ground truth: 20-node ER2 graph\n",
    "- Data: Linear DAG model with Gaussian-EV noise."
   ]
  },
  {
   "cell_type": "markdown",
   "metadata": {},
   "source": [
    "## Run GOLEM-EV\n",
    "\n",
    "Each run creates a directory based on current datetime to save the training outputs. In this case it is `output/2020-12-01_12-11-50-562`."
   ]
  },
  {
   "cell_type": "code",
   "execution_count": 1,
   "metadata": {},
   "outputs": [
    {
     "name": "stdout",
     "output_type": "stream",
     "text": [
      "2020-12-01 12:11:50,563 INFO - __main__ - Finished setting up the logger.\n",
      "2020-12-01 12:11:50,571 INFO - __main__ - Finished loading the dataset.\n",
      "WARNING:tensorflow:From /Users/Ignavier/anaconda/envs/golem/lib/python3.6/site-packages/tensorflow_core/python/ops/linalg/linalg_impl.py:283: where (from tensorflow.python.ops.array_ops) is deprecated and will be removed in a future version.\n",
      "Instructions for updating:\n",
      "Use tf.where in 2.0, which has the same broadcast rule as np.where\n",
      "2020-12-01 12:11:50,674 WARNING - tensorflow - From /Users/Ignavier/anaconda/envs/golem/lib/python3.6/site-packages/tensorflow_core/python/ops/linalg/linalg_impl.py:283: where (from tensorflow.python.ops.array_ops) is deprecated and will be removed in a future version.\n",
      "Instructions for updating:\n",
      "Use tf.where in 2.0, which has the same broadcast rule as np.where\n",
      "2020-12-01 12:11:51,065 INFO - trainers.golem_trainer - Started training for 100000.0 iterations.\n",
      "2020-12-01 12:11:51,176 INFO - trainers.golem_trainer - [Iter 0] score 1.408E+02, likelihood 1.408E+02, h 0.000E+00\n",
      "2020-12-01 12:11:57,342 INFO - trainers.golem_trainer - [Iter 5000] score 1.003E+02, likelihood 9.908E+01, h 6.798E-03\n",
      "2020-12-01 12:12:03,360 INFO - trainers.golem_trainer - [Iter 10000] score 1.003E+02, likelihood 9.904E+01, h 6.603E-03\n",
      "2020-12-01 12:12:09,803 INFO - trainers.golem_trainer - [Iter 15000] score 1.003E+02, likelihood 9.904E+01, h 6.580E-03\n",
      "2020-12-01 12:12:15,802 INFO - trainers.golem_trainer - [Iter 20000] score 1.003E+02, likelihood 9.904E+01, h 6.630E-03\n",
      "2020-12-01 12:12:21,814 INFO - trainers.golem_trainer - [Iter 25000] score 1.003E+02, likelihood 9.904E+01, h 6.580E-03\n",
      "2020-12-01 12:12:27,770 INFO - trainers.golem_trainer - [Iter 30000] score 1.003E+02, likelihood 9.904E+01, h 6.584E-03\n",
      "2020-12-01 12:12:33,748 INFO - trainers.golem_trainer - [Iter 35000] score 1.003E+02, likelihood 9.904E+01, h 6.601E-03\n",
      "2020-12-01 12:12:39,714 INFO - trainers.golem_trainer - [Iter 40000] score 1.003E+02, likelihood 9.904E+01, h 6.613E-03\n",
      "2020-12-01 12:12:45,735 INFO - trainers.golem_trainer - [Iter 45000] score 1.003E+02, likelihood 9.904E+01, h 6.584E-03\n",
      "2020-12-01 12:12:51,706 INFO - trainers.golem_trainer - [Iter 50000] score 1.003E+02, likelihood 9.904E+01, h 6.611E-03\n",
      "2020-12-01 12:12:57,740 INFO - trainers.golem_trainer - [Iter 55000] score 1.003E+02, likelihood 9.904E+01, h 6.599E-03\n",
      "2020-12-01 12:13:03,699 INFO - trainers.golem_trainer - [Iter 60000] score 1.003E+02, likelihood 9.904E+01, h 6.598E-03\n",
      "2020-12-01 12:13:09,668 INFO - trainers.golem_trainer - [Iter 65000] score 1.003E+02, likelihood 9.904E+01, h 6.592E-03\n",
      "2020-12-01 12:13:15,624 INFO - trainers.golem_trainer - [Iter 70000] score 1.003E+02, likelihood 9.904E+01, h 6.582E-03\n",
      "2020-12-01 12:13:21,593 INFO - trainers.golem_trainer - [Iter 75000] score 1.003E+02, likelihood 9.904E+01, h 6.596E-03\n",
      "2020-12-01 12:13:28,178 INFO - trainers.golem_trainer - [Iter 80000] score 1.003E+02, likelihood 9.904E+01, h 6.599E-03\n",
      "2020-12-01 12:13:34,164 INFO - trainers.golem_trainer - [Iter 85000] score 1.003E+02, likelihood 9.904E+01, h 6.613E-03\n",
      "2020-12-01 12:13:40,173 INFO - trainers.golem_trainer - [Iter 90000] score 1.003E+02, likelihood 9.904E+01, h 6.603E-03\n",
      "2020-12-01 12:13:46,264 INFO - trainers.golem_trainer - [Iter 95000] score 1.003E+02, likelihood 9.904E+01, h 6.596E-03\n",
      "2020-12-01 12:13:52,282 INFO - trainers.golem_trainer - [Iter 100000] score 1.003E+02, likelihood 9.904E+01, h 6.607E-03\n",
      "2020-12-01 12:13:52,287 INFO - __main__ - Finished training the model.\n",
      "2020-12-01 12:13:52,288 INFO - __main__ - Finished post-processing the estimated graph.\n",
      "2020-12-01 12:13:52,791 INFO - __main__ - Finished plotting estimated graph (without post-processing).\n",
      "2020-12-01 12:13:52,792 INFO - __main__ - Results (after post-processing): {'fdr': 0.038461538461538464, 'tpr': 0.9803921568627451, 'fpr': 0.014388489208633094, 'shd': 2, 'pred_size': 52}.\n",
      "2020-12-01 12:13:52,794 INFO - __main__ - Finished saving training outputs at output/2020-12-01_12-11-50-562.\n"
     ]
    }
   ],
   "source": [
    "!python src/main.py  --seed 1 \\\n",
    "                     --d 20 \\\n",
    "                     --graph_type ER \\\n",
    "                     --degree 4 \\\n",
    "                     --noise_type gaussian_ev \\\n",
    "                     --equal_variances \\\n",
    "                     --lambda_1 2e-2 \\\n",
    "                     --lambda_2 5.0 \\\n",
    "                     --checkpoint_iter 5000"
   ]
  }
 ],
 "metadata": {
  "kernelspec": {
   "display_name": "Python 3",
   "language": "python",
   "name": "python3"
  },
  "language_info": {
   "codemirror_mode": {
    "name": "ipython",
    "version": 3
   },
   "file_extension": ".py",
   "mimetype": "text/x-python",
   "name": "python",
   "nbconvert_exporter": "python",
   "pygments_lexer": "ipython3",
   "version": "3.6.12"
  }
 },
 "nbformat": 4,
 "nbformat_minor": 4
}
