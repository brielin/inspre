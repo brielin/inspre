{
 "cells": [
  {
   "cell_type": "markdown",
   "metadata": {},
   "source": [
    "# Demo of GOLEM-NV\n",
    "\n",
    "The optimization problem of GOLEM-NV is susceptible to local solutions, so we have to initialize it with the solution returned by GOLEM-EV.\n",
    "\n",
    "Dataset configurations:\n",
    "- Ground truth: 20-node ER2 graph\n",
    "- Data: Linear DAG model with Gaussian-NV noise."
   ]
  },
  {
   "cell_type": "markdown",
   "metadata": {},
   "source": [
    "## Run GOLEM-EV (for initialization)\n",
    "\n",
    "Each run creates a directory based on current datetime to save the training outputs. In this case it is `output/2020-12-01_12-14-01-649`."
   ]
  },
  {
   "cell_type": "code",
   "execution_count": 1,
   "metadata": {},
   "outputs": [
    {
     "name": "stdout",
     "output_type": "stream",
     "text": [
      "2020-12-01 12:14:01,650 INFO - __main__ - Finished setting up the logger.\n",
      "2020-12-01 12:14:01,656 INFO - __main__ - Finished loading the dataset.\n",
      "WARNING:tensorflow:From /Users/Ignavier/anaconda/envs/golem/lib/python3.6/site-packages/tensorflow_core/python/ops/linalg/linalg_impl.py:283: where (from tensorflow.python.ops.array_ops) is deprecated and will be removed in a future version.\n",
      "Instructions for updating:\n",
      "Use tf.where in 2.0, which has the same broadcast rule as np.where\n",
      "2020-12-01 12:14:01,766 WARNING - tensorflow - From /Users/Ignavier/anaconda/envs/golem/lib/python3.6/site-packages/tensorflow_core/python/ops/linalg/linalg_impl.py:283: where (from tensorflow.python.ops.array_ops) is deprecated and will be removed in a future version.\n",
      "Instructions for updating:\n",
      "Use tf.where in 2.0, which has the same broadcast rule as np.where\n",
      "2020-12-01 12:14:02,123 INFO - trainers.golem_trainer - Started training for 100000.0 iterations.\n",
      "2020-12-01 12:14:02,219 INFO - trainers.golem_trainer - [Iter 0] score 1.496E+02, likelihood 1.496E+02, h 0.000E+00\n",
      "2020-12-01 12:14:08,212 INFO - trainers.golem_trainer - [Iter 5000] score 1.078E+02, likelihood 1.064E+02, h 1.296E-02\n",
      "2020-12-01 12:14:14,064 INFO - trainers.golem_trainer - [Iter 10000] score 1.077E+02, likelihood 1.063E+02, h 1.224E-02\n",
      "2020-12-01 12:14:19,942 INFO - trainers.golem_trainer - [Iter 15000] score 1.077E+02, likelihood 1.063E+02, h 1.226E-02\n",
      "2020-12-01 12:14:26,640 INFO - trainers.golem_trainer - [Iter 20000] score 1.077E+02, likelihood 1.063E+02, h 1.227E-02\n",
      "2020-12-01 12:14:33,178 INFO - trainers.golem_trainer - [Iter 25000] score 1.077E+02, likelihood 1.063E+02, h 1.227E-02\n",
      "2020-12-01 12:14:39,163 INFO - trainers.golem_trainer - [Iter 30000] score 1.077E+02, likelihood 1.063E+02, h 1.226E-02\n",
      "2020-12-01 12:14:45,110 INFO - trainers.golem_trainer - [Iter 35000] score 1.077E+02, likelihood 1.063E+02, h 1.226E-02\n",
      "2020-12-01 12:14:51,854 INFO - trainers.golem_trainer - [Iter 40000] score 1.077E+02, likelihood 1.063E+02, h 1.226E-02\n",
      "2020-12-01 12:14:57,919 INFO - trainers.golem_trainer - [Iter 45000] score 1.077E+02, likelihood 1.063E+02, h 1.226E-02\n",
      "2020-12-01 12:15:04,285 INFO - trainers.golem_trainer - [Iter 50000] score 1.077E+02, likelihood 1.063E+02, h 1.224E-02\n",
      "2020-12-01 12:15:10,716 INFO - trainers.golem_trainer - [Iter 55000] score 1.077E+02, likelihood 1.063E+02, h 1.224E-02\n",
      "2020-12-01 12:15:20,903 INFO - trainers.golem_trainer - [Iter 60000] score 1.077E+02, likelihood 1.063E+02, h 1.225E-02\n",
      "2020-12-01 12:15:27,218 INFO - trainers.golem_trainer - [Iter 65000] score 1.077E+02, likelihood 1.063E+02, h 1.228E-02\n",
      "2020-12-01 12:15:34,109 INFO - trainers.golem_trainer - [Iter 70000] score 1.077E+02, likelihood 1.063E+02, h 1.223E-02\n",
      "2020-12-01 12:15:40,281 INFO - trainers.golem_trainer - [Iter 75000] score 1.077E+02, likelihood 1.063E+02, h 1.225E-02\n",
      "2020-12-01 12:15:46,412 INFO - trainers.golem_trainer - [Iter 80000] score 1.077E+02, likelihood 1.063E+02, h 1.225E-02\n",
      "2020-12-01 12:15:52,588 INFO - trainers.golem_trainer - [Iter 85000] score 1.077E+02, likelihood 1.063E+02, h 1.224E-02\n",
      "2020-12-01 12:15:58,844 INFO - trainers.golem_trainer - [Iter 90000] score 1.077E+02, likelihood 1.063E+02, h 1.226E-02\n",
      "2020-12-01 12:16:06,286 INFO - trainers.golem_trainer - [Iter 95000] score 1.077E+02, likelihood 1.063E+02, h 1.225E-02\n",
      "2020-12-01 12:16:13,980 INFO - trainers.golem_trainer - [Iter 100000] score 1.077E+02, likelihood 1.063E+02, h 1.224E-02\n",
      "2020-12-01 12:16:13,994 INFO - __main__ - Finished training the model.\n",
      "2020-12-01 12:16:13,995 INFO - __main__ - Finished post-processing the estimated graph.\n",
      "2020-12-01 12:16:14,591 INFO - __main__ - Finished plotting estimated graph (without post-processing).\n",
      "2020-12-01 12:16:14,592 INFO - __main__ - Results (after post-processing): {'fdr': 0.16363636363636364, 'tpr': 0.9019607843137255, 'fpr': 0.06474820143884892, 'shd': 11, 'pred_size': 55}.\n",
      "2020-12-01 12:16:14,595 INFO - __main__ - Finished saving training outputs at output/2020-12-01_12-14-01-649.\n"
     ]
    }
   ],
   "source": [
    "!python src/main.py  --seed 1 \\\n",
    "                     --d 20 \\\n",
    "                     --graph_type ER \\\n",
    "                     --degree 4 \\\n",
    "                     --noise_type gaussian_nv \\\n",
    "                     --equal_variances \\\n",
    "                     --lambda_1 2e-2 \\\n",
    "                     --lambda_2 5.0 \\\n",
    "                     --checkpoint_iter 5000"
   ]
  },
  {
   "cell_type": "markdown",
   "metadata": {},
   "source": [
    "## First way to run GOLEM-NV with initialization\n",
    "\n",
    "Set `init` to `True`. By default, the code will load the estimated solution of the **latest** experiment (based on datetime) in the `output` directory.\n",
    "\n",
    "Please make sure the latest experiment indeed corresponds to GOLEM-EV with same dataset configurations.\n",
    "\n",
    "In this case, the code will load the solution from the previous experiment (i.e., `output/2020-12-01_12-14-01-649`), since it is the latest experiment."
   ]
  },
  {
   "cell_type": "code",
   "execution_count": 2,
   "metadata": {},
   "outputs": [
    {
     "name": "stdout",
     "output_type": "stream",
     "text": [
      "2020-12-01 12:16:17,962 INFO - __main__ - Finished setting up the logger.\n",
      "2020-12-01 12:16:17,968 INFO - __main__ - Finished loading the dataset.\n",
      "2020-12-01 12:16:17,975 INFO - __main__ - Finished loading B_init from output/2020-12-01_12-14-01-649/B_est.npy.\n",
      "WARNING:tensorflow:From /Users/Ignavier/anaconda/envs/golem/lib/python3.6/site-packages/tensorflow_core/python/ops/linalg/linalg_impl.py:283: where (from tensorflow.python.ops.array_ops) is deprecated and will be removed in a future version.\n",
      "Instructions for updating:\n",
      "Use tf.where in 2.0, which has the same broadcast rule as np.where\n",
      "2020-12-01 12:16:18,088 WARNING - tensorflow - From /Users/Ignavier/anaconda/envs/golem/lib/python3.6/site-packages/tensorflow_core/python/ops/linalg/linalg_impl.py:283: where (from tensorflow.python.ops.array_ops) is deprecated and will be removed in a future version.\n",
      "Instructions for updating:\n",
      "Use tf.where in 2.0, which has the same broadcast rule as np.where\n",
      "2020-12-01 12:16:18,618 INFO - trainers.golem_trainer - Started training for 100000.0 iterations.\n",
      "2020-12-01 12:16:18,718 INFO - trainers.golem_trainer - [Iter 0] score 7.625E+01, likelihood 7.605E+01, h 1.224E-02\n",
      "2020-12-01 12:16:25,647 INFO - trainers.golem_trainer - [Iter 5000] score 7.612E+01, likelihood 7.599E+01, h 1.755E-04\n",
      "2020-12-01 12:16:31,865 INFO - trainers.golem_trainer - [Iter 10000] score 7.612E+01, likelihood 7.599E+01, h 1.717E-04\n",
      "2020-12-01 12:16:38,221 INFO - trainers.golem_trainer - [Iter 15000] score 7.612E+01, likelihood 7.599E+01, h 1.755E-04\n",
      "2020-12-01 12:16:44,595 INFO - trainers.golem_trainer - [Iter 20000] score 7.612E+01, likelihood 7.599E+01, h 1.755E-04\n",
      "2020-12-01 12:16:51,051 INFO - trainers.golem_trainer - [Iter 25000] score 7.612E+01, likelihood 7.599E+01, h 1.717E-04\n",
      "2020-12-01 12:16:57,425 INFO - trainers.golem_trainer - [Iter 30000] score 7.612E+01, likelihood 7.599E+01, h 1.755E-04\n",
      "2020-12-01 12:17:06,490 INFO - trainers.golem_trainer - [Iter 35000] score 7.612E+01, likelihood 7.599E+01, h 1.678E-04\n",
      "2020-12-01 12:17:14,129 INFO - trainers.golem_trainer - [Iter 40000] score 7.612E+01, likelihood 7.599E+01, h 1.717E-04\n",
      "2020-12-01 12:17:20,465 INFO - trainers.golem_trainer - [Iter 45000] score 7.612E+01, likelihood 7.599E+01, h 1.678E-04\n",
      "2020-12-01 12:17:26,749 INFO - trainers.golem_trainer - [Iter 50000] score 7.612E+01, likelihood 7.599E+01, h 1.736E-04\n",
      "2020-12-01 12:17:33,156 INFO - trainers.golem_trainer - [Iter 55000] score 7.612E+01, likelihood 7.599E+01, h 1.736E-04\n",
      "2020-12-01 12:17:39,554 INFO - trainers.golem_trainer - [Iter 60000] score 7.612E+01, likelihood 7.599E+01, h 1.717E-04\n",
      "2020-12-01 12:17:45,833 INFO - trainers.golem_trainer - [Iter 65000] score 7.612E+01, likelihood 7.599E+01, h 1.717E-04\n",
      "2020-12-01 12:17:54,923 INFO - trainers.golem_trainer - [Iter 70000] score 7.612E+01, likelihood 7.599E+01, h 1.755E-04\n",
      "2020-12-01 12:18:03,416 INFO - trainers.golem_trainer - [Iter 75000] score 7.613E+01, likelihood 7.599E+01, h 1.678E-04\n",
      "2020-12-01 12:18:10,164 INFO - trainers.golem_trainer - [Iter 80000] score 7.612E+01, likelihood 7.599E+01, h 1.755E-04\n",
      "2020-12-01 12:18:17,260 INFO - trainers.golem_trainer - [Iter 85000] score 7.612E+01, likelihood 7.599E+01, h 1.717E-04\n",
      "2020-12-01 12:18:24,392 INFO - trainers.golem_trainer - [Iter 90000] score 7.612E+01, likelihood 7.599E+01, h 1.755E-04\n",
      "2020-12-01 12:18:32,626 INFO - trainers.golem_trainer - [Iter 95000] score 7.612E+01, likelihood 7.599E+01, h 1.717E-04\n",
      "2020-12-01 12:18:40,881 INFO - trainers.golem_trainer - [Iter 100000] score 7.612E+01, likelihood 7.599E+01, h 1.717E-04\n",
      "2020-12-01 12:18:40,888 INFO - __main__ - Finished training the model.\n",
      "2020-12-01 12:18:40,889 INFO - __main__ - Finished post-processing the estimated graph.\n",
      "2020-12-01 12:18:41,624 INFO - __main__ - Finished plotting estimated graph (without post-processing).\n",
      "2020-12-01 12:18:41,625 INFO - __main__ - Results (after post-processing): {'fdr': 0.0784313725490196, 'tpr': 0.9215686274509803, 'fpr': 0.02877697841726619, 'shd': 5, 'pred_size': 51}.\n",
      "2020-12-01 12:18:41,631 INFO - __main__ - Finished saving training outputs at output/2020-12-01_12-16-17-961.\n"
     ]
    }
   ],
   "source": [
    "!python src/main.py  --seed 1 \\\n",
    "                     --d 20 \\\n",
    "                     --graph_type ER \\\n",
    "                     --degree 4 \\\n",
    "                     --noise_type gaussian_nv \\\n",
    "                     --non_equal_variances \\\n",
    "                     --init \\\n",
    "                     --lambda_1 2e-3 \\\n",
    "                     --lambda_2 5.0 \\\n",
    "                     --checkpoint_iter 5000"
   ]
  },
  {
   "cell_type": "markdown",
   "metadata": {},
   "source": [
    "## Second way to run GOLEM-NV with initialization\n",
    "\n",
    "Set `init` to `True` and manually set `init_path` to the path of estimated solution (`.npy` file) by GOLEM-EV.\n",
    "\n",
    "In this case, we set `init_path` to `output/2020-12-01_12-14-01-649/B_est.npy`."
   ]
  },
  {
   "cell_type": "code",
   "execution_count": 3,
   "metadata": {},
   "outputs": [
    {
     "name": "stdout",
     "output_type": "stream",
     "text": [
      "2020-12-01 12:19:51,237 INFO - __main__ - Finished setting up the logger.\n",
      "2020-12-01 12:19:51,244 INFO - __main__ - Finished loading the dataset.\n",
      "2020-12-01 12:19:51,250 INFO - __main__ - Finished loading B_init from output/2020-12-01_12-14-01-649/B_est.npy.\n",
      "WARNING:tensorflow:From /Users/Ignavier/anaconda/envs/golem/lib/python3.6/site-packages/tensorflow_core/python/ops/linalg/linalg_impl.py:283: where (from tensorflow.python.ops.array_ops) is deprecated and will be removed in a future version.\n",
      "Instructions for updating:\n",
      "Use tf.where in 2.0, which has the same broadcast rule as np.where\n",
      "2020-12-01 12:19:51,358 WARNING - tensorflow - From /Users/Ignavier/anaconda/envs/golem/lib/python3.6/site-packages/tensorflow_core/python/ops/linalg/linalg_impl.py:283: where (from tensorflow.python.ops.array_ops) is deprecated and will be removed in a future version.\n",
      "Instructions for updating:\n",
      "Use tf.where in 2.0, which has the same broadcast rule as np.where\n",
      "2020-12-01 12:19:51,764 INFO - trainers.golem_trainer - Started training for 100000.0 iterations.\n",
      "2020-12-01 12:19:51,862 INFO - trainers.golem_trainer - [Iter 0] score 7.625E+01, likelihood 7.605E+01, h 1.224E-02\n",
      "2020-12-01 12:19:59,062 INFO - trainers.golem_trainer - [Iter 5000] score 7.612E+01, likelihood 7.599E+01, h 1.755E-04\n",
      "2020-12-01 12:20:06,192 INFO - trainers.golem_trainer - [Iter 10000] score 7.612E+01, likelihood 7.599E+01, h 1.717E-04\n",
      "2020-12-01 12:20:13,620 INFO - trainers.golem_trainer - [Iter 15000] score 7.612E+01, likelihood 7.599E+01, h 1.755E-04\n",
      "2020-12-01 12:20:20,921 INFO - trainers.golem_trainer - [Iter 20000] score 7.612E+01, likelihood 7.599E+01, h 1.755E-04\n",
      "2020-12-01 12:20:26,755 INFO - trainers.golem_trainer - [Iter 25000] score 7.612E+01, likelihood 7.599E+01, h 1.717E-04\n",
      "2020-12-01 12:20:32,619 INFO - trainers.golem_trainer - [Iter 30000] score 7.612E+01, likelihood 7.599E+01, h 1.755E-04\n",
      "2020-12-01 12:20:38,515 INFO - trainers.golem_trainer - [Iter 35000] score 7.612E+01, likelihood 7.599E+01, h 1.678E-04\n",
      "2020-12-01 12:20:44,328 INFO - trainers.golem_trainer - [Iter 40000] score 7.612E+01, likelihood 7.599E+01, h 1.717E-04\n",
      "2020-12-01 12:20:50,197 INFO - trainers.golem_trainer - [Iter 45000] score 7.612E+01, likelihood 7.599E+01, h 1.678E-04\n",
      "2020-12-01 12:20:56,009 INFO - trainers.golem_trainer - [Iter 50000] score 7.612E+01, likelihood 7.599E+01, h 1.736E-04\n",
      "2020-12-01 12:21:01,818 INFO - trainers.golem_trainer - [Iter 55000] score 7.612E+01, likelihood 7.599E+01, h 1.736E-04\n",
      "2020-12-01 12:21:07,632 INFO - trainers.golem_trainer - [Iter 60000] score 7.612E+01, likelihood 7.599E+01, h 1.717E-04\n",
      "2020-12-01 12:21:13,438 INFO - trainers.golem_trainer - [Iter 65000] score 7.612E+01, likelihood 7.599E+01, h 1.717E-04\n",
      "2020-12-01 12:21:19,252 INFO - trainers.golem_trainer - [Iter 70000] score 7.612E+01, likelihood 7.599E+01, h 1.755E-04\n",
      "2020-12-01 12:21:25,045 INFO - trainers.golem_trainer - [Iter 75000] score 7.613E+01, likelihood 7.599E+01, h 1.678E-04\n",
      "2020-12-01 12:21:30,851 INFO - trainers.golem_trainer - [Iter 80000] score 7.612E+01, likelihood 7.599E+01, h 1.755E-04\n",
      "2020-12-01 12:21:36,722 INFO - trainers.golem_trainer - [Iter 85000] score 7.612E+01, likelihood 7.599E+01, h 1.717E-04\n",
      "2020-12-01 12:21:42,770 INFO - trainers.golem_trainer - [Iter 90000] score 7.612E+01, likelihood 7.599E+01, h 1.755E-04\n",
      "2020-12-01 12:21:50,133 INFO - trainers.golem_trainer - [Iter 95000] score 7.612E+01, likelihood 7.599E+01, h 1.717E-04\n",
      "2020-12-01 12:21:56,246 INFO - trainers.golem_trainer - [Iter 100000] score 7.612E+01, likelihood 7.599E+01, h 1.717E-04\n",
      "2020-12-01 12:21:56,252 INFO - __main__ - Finished training the model.\n",
      "2020-12-01 12:21:56,253 INFO - __main__ - Finished post-processing the estimated graph.\n",
      "2020-12-01 12:21:56,758 INFO - __main__ - Finished plotting estimated graph (without post-processing).\n",
      "2020-12-01 12:21:56,759 INFO - __main__ - Results (after post-processing): {'fdr': 0.0784313725490196, 'tpr': 0.9215686274509803, 'fpr': 0.02877697841726619, 'shd': 5, 'pred_size': 51}.\n",
      "2020-12-01 12:21:56,762 INFO - __main__ - Finished saving training outputs at output/2020-12-01_12-19-51-237.\n"
     ]
    }
   ],
   "source": [
    "!python src/main.py  --seed 1 \\\n",
    "                     --d 20 \\\n",
    "                     --graph_type ER \\\n",
    "                     --degree 4 \\\n",
    "                     --noise_type gaussian_nv \\\n",
    "                     --non_equal_variances \\\n",
    "                     --init \\\n",
    "                     --init_path output/2020-12-01_12-14-01-649/B_est.npy \\\n",
    "                     --lambda_1 2e-3 \\\n",
    "                     --lambda_2 5.0 \\\n",
    "                     --checkpoint_iter 5000"
   ]
  }
 ],
 "metadata": {
  "kernelspec": {
   "display_name": "Python 3",
   "language": "python",
   "name": "python3"
  },
  "language_info": {
   "codemirror_mode": {
    "name": "ipython",
    "version": 3
   },
   "file_extension": ".py",
   "mimetype": "text/x-python",
   "name": "python",
   "nbconvert_exporter": "python",
   "pygments_lexer": "ipython3",
   "version": "3.6.12"
  }
 },
 "nbformat": 4,
 "nbformat_minor": 4
}
